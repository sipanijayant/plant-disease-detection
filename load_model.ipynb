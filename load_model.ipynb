{
 "cells": [
  {
   "cell_type": "code",
   "execution_count": 2,
   "metadata": {},
   "outputs": [],
   "source": [
    "import cv2 "
   ]
  },
  {
   "cell_type": "code",
   "execution_count": 3,
   "metadata": {},
   "outputs": [],
   "source": [
    "import requests\n",
    "from bs4 import BeautifulSoup\n",
    "import re\n",
    "import xml.etree.ElementTree\n",
    " \n",
    " "
   ]
  },
  {
   "cell_type": "code",
   "execution_count": 4,
   "metadata": {
    "scrolled": true
   },
   "outputs": [
    {
     "name": "stderr",
     "output_type": "stream",
     "text": [
      "Using TensorFlow backend.\n"
     ]
    }
   ],
   "source": [
    "from keras.preprocessing import image\n",
    "import numpy as np"
   ]
  },
  {
   "cell_type": "code",
   "execution_count": 5,
   "metadata": {},
   "outputs": [],
   "source": [
    "import tensorflow as tf\n",
    "from keras.models import load_model"
   ]
  },
  {
   "cell_type": "code",
   "execution_count": 6,
   "metadata": {},
   "outputs": [],
   "source": [
    "graph = tf.get_default_graph()"
   ]
  },
  {
   "cell_type": "code",
   "execution_count": 7,
   "metadata": {},
   "outputs": [
    {
     "ename": "OSError",
     "evalue": "Unable to open file (unable to open file: name = 'AlexNetModel.hdf5', errno = 2, error message = 'No such file or directory', flags = 0, o_flags = 0)",
     "output_type": "error",
     "traceback": [
      "\u001b[1;31m---------------------------------------------------------------------------\u001b[0m",
      "\u001b[1;31mOSError\u001b[0m                                   Traceback (most recent call last)",
      "\u001b[1;32m<ipython-input-7-0ec97b240434>\u001b[0m in \u001b[0;36m<module>\u001b[1;34m\u001b[0m\n\u001b[1;32m----> 1\u001b[1;33m \u001b[0mmodel\u001b[0m \u001b[1;33m=\u001b[0m \u001b[0mload_model\u001b[0m\u001b[1;33m(\u001b[0m\u001b[1;34m'AlexNetModel.hdf5'\u001b[0m\u001b[1;33m)\u001b[0m\u001b[1;33m\u001b[0m\u001b[1;33m\u001b[0m\u001b[0m\n\u001b[0m",
      "\u001b[1;32mc:\\users\\anand\\appdata\\local\\programs\\python\\python36\\lib\\site-packages\\keras\\engine\\saving.py\u001b[0m in \u001b[0;36mload_model\u001b[1;34m(filepath, custom_objects, compile)\u001b[0m\n\u001b[0;32m    415\u001b[0m     \u001b[0mmodel\u001b[0m \u001b[1;33m=\u001b[0m \u001b[1;32mNone\u001b[0m\u001b[1;33m\u001b[0m\u001b[1;33m\u001b[0m\u001b[0m\n\u001b[0;32m    416\u001b[0m     \u001b[0mopened_new_file\u001b[0m \u001b[1;33m=\u001b[0m \u001b[1;32mnot\u001b[0m \u001b[0misinstance\u001b[0m\u001b[1;33m(\u001b[0m\u001b[0mfilepath\u001b[0m\u001b[1;33m,\u001b[0m \u001b[0mh5py\u001b[0m\u001b[1;33m.\u001b[0m\u001b[0mGroup\u001b[0m\u001b[1;33m)\u001b[0m\u001b[1;33m\u001b[0m\u001b[1;33m\u001b[0m\u001b[0m\n\u001b[1;32m--> 417\u001b[1;33m     \u001b[0mf\u001b[0m \u001b[1;33m=\u001b[0m \u001b[0mh5dict\u001b[0m\u001b[1;33m(\u001b[0m\u001b[0mfilepath\u001b[0m\u001b[1;33m,\u001b[0m \u001b[1;34m'r'\u001b[0m\u001b[1;33m)\u001b[0m\u001b[1;33m\u001b[0m\u001b[1;33m\u001b[0m\u001b[0m\n\u001b[0m\u001b[0;32m    418\u001b[0m     \u001b[1;32mtry\u001b[0m\u001b[1;33m:\u001b[0m\u001b[1;33m\u001b[0m\u001b[1;33m\u001b[0m\u001b[0m\n\u001b[0;32m    419\u001b[0m         \u001b[0mmodel\u001b[0m \u001b[1;33m=\u001b[0m \u001b[0m_deserialize_model\u001b[0m\u001b[1;33m(\u001b[0m\u001b[0mf\u001b[0m\u001b[1;33m,\u001b[0m \u001b[0mcustom_objects\u001b[0m\u001b[1;33m,\u001b[0m \u001b[0mcompile\u001b[0m\u001b[1;33m)\u001b[0m\u001b[1;33m\u001b[0m\u001b[1;33m\u001b[0m\u001b[0m\n",
      "\u001b[1;32mc:\\users\\anand\\appdata\\local\\programs\\python\\python36\\lib\\site-packages\\keras\\utils\\io_utils.py\u001b[0m in \u001b[0;36m__init__\u001b[1;34m(self, path, mode)\u001b[0m\n\u001b[0;32m    184\u001b[0m             \u001b[0mself\u001b[0m\u001b[1;33m.\u001b[0m\u001b[0m_is_file\u001b[0m \u001b[1;33m=\u001b[0m \u001b[1;32mFalse\u001b[0m\u001b[1;33m\u001b[0m\u001b[1;33m\u001b[0m\u001b[0m\n\u001b[0;32m    185\u001b[0m         \u001b[1;32melif\u001b[0m \u001b[0misinstance\u001b[0m\u001b[1;33m(\u001b[0m\u001b[0mpath\u001b[0m\u001b[1;33m,\u001b[0m \u001b[0mstr\u001b[0m\u001b[1;33m)\u001b[0m\u001b[1;33m:\u001b[0m\u001b[1;33m\u001b[0m\u001b[1;33m\u001b[0m\u001b[0m\n\u001b[1;32m--> 186\u001b[1;33m             \u001b[0mself\u001b[0m\u001b[1;33m.\u001b[0m\u001b[0mdata\u001b[0m \u001b[1;33m=\u001b[0m \u001b[0mh5py\u001b[0m\u001b[1;33m.\u001b[0m\u001b[0mFile\u001b[0m\u001b[1;33m(\u001b[0m\u001b[0mpath\u001b[0m\u001b[1;33m,\u001b[0m \u001b[0mmode\u001b[0m\u001b[1;33m=\u001b[0m\u001b[0mmode\u001b[0m\u001b[1;33m)\u001b[0m\u001b[1;33m\u001b[0m\u001b[1;33m\u001b[0m\u001b[0m\n\u001b[0m\u001b[0;32m    187\u001b[0m             \u001b[0mself\u001b[0m\u001b[1;33m.\u001b[0m\u001b[0m_is_file\u001b[0m \u001b[1;33m=\u001b[0m \u001b[1;32mTrue\u001b[0m\u001b[1;33m\u001b[0m\u001b[1;33m\u001b[0m\u001b[0m\n\u001b[0;32m    188\u001b[0m         \u001b[1;32melif\u001b[0m \u001b[0misinstance\u001b[0m\u001b[1;33m(\u001b[0m\u001b[0mpath\u001b[0m\u001b[1;33m,\u001b[0m \u001b[0mdict\u001b[0m\u001b[1;33m)\u001b[0m\u001b[1;33m:\u001b[0m\u001b[1;33m\u001b[0m\u001b[1;33m\u001b[0m\u001b[0m\n",
      "\u001b[1;32mc:\\users\\anand\\appdata\\local\\programs\\python\\python36\\lib\\site-packages\\h5py\\_hl\\files.py\u001b[0m in \u001b[0;36m__init__\u001b[1;34m(self, name, mode, driver, libver, userblock_size, swmr, **kwds)\u001b[0m\n\u001b[0;32m    310\u001b[0m             \u001b[1;32mwith\u001b[0m \u001b[0mphil\u001b[0m\u001b[1;33m:\u001b[0m\u001b[1;33m\u001b[0m\u001b[1;33m\u001b[0m\u001b[0m\n\u001b[0;32m    311\u001b[0m                 \u001b[0mfapl\u001b[0m \u001b[1;33m=\u001b[0m \u001b[0mmake_fapl\u001b[0m\u001b[1;33m(\u001b[0m\u001b[0mdriver\u001b[0m\u001b[1;33m,\u001b[0m \u001b[0mlibver\u001b[0m\u001b[1;33m,\u001b[0m \u001b[1;33m**\u001b[0m\u001b[0mkwds\u001b[0m\u001b[1;33m)\u001b[0m\u001b[1;33m\u001b[0m\u001b[1;33m\u001b[0m\u001b[0m\n\u001b[1;32m--> 312\u001b[1;33m                 \u001b[0mfid\u001b[0m \u001b[1;33m=\u001b[0m \u001b[0mmake_fid\u001b[0m\u001b[1;33m(\u001b[0m\u001b[0mname\u001b[0m\u001b[1;33m,\u001b[0m \u001b[0mmode\u001b[0m\u001b[1;33m,\u001b[0m \u001b[0muserblock_size\u001b[0m\u001b[1;33m,\u001b[0m \u001b[0mfapl\u001b[0m\u001b[1;33m,\u001b[0m \u001b[0mswmr\u001b[0m\u001b[1;33m=\u001b[0m\u001b[0mswmr\u001b[0m\u001b[1;33m)\u001b[0m\u001b[1;33m\u001b[0m\u001b[1;33m\u001b[0m\u001b[0m\n\u001b[0m\u001b[0;32m    313\u001b[0m \u001b[1;33m\u001b[0m\u001b[0m\n\u001b[0;32m    314\u001b[0m                 \u001b[1;32mif\u001b[0m \u001b[0mswmr_support\u001b[0m\u001b[1;33m:\u001b[0m\u001b[1;33m\u001b[0m\u001b[1;33m\u001b[0m\u001b[0m\n",
      "\u001b[1;32mc:\\users\\anand\\appdata\\local\\programs\\python\\python36\\lib\\site-packages\\h5py\\_hl\\files.py\u001b[0m in \u001b[0;36mmake_fid\u001b[1;34m(name, mode, userblock_size, fapl, fcpl, swmr)\u001b[0m\n\u001b[0;32m    140\u001b[0m         \u001b[1;32mif\u001b[0m \u001b[0mswmr\u001b[0m \u001b[1;32mand\u001b[0m \u001b[0mswmr_support\u001b[0m\u001b[1;33m:\u001b[0m\u001b[1;33m\u001b[0m\u001b[1;33m\u001b[0m\u001b[0m\n\u001b[0;32m    141\u001b[0m             \u001b[0mflags\u001b[0m \u001b[1;33m|=\u001b[0m \u001b[0mh5f\u001b[0m\u001b[1;33m.\u001b[0m\u001b[0mACC_SWMR_READ\u001b[0m\u001b[1;33m\u001b[0m\u001b[1;33m\u001b[0m\u001b[0m\n\u001b[1;32m--> 142\u001b[1;33m         \u001b[0mfid\u001b[0m \u001b[1;33m=\u001b[0m \u001b[0mh5f\u001b[0m\u001b[1;33m.\u001b[0m\u001b[0mopen\u001b[0m\u001b[1;33m(\u001b[0m\u001b[0mname\u001b[0m\u001b[1;33m,\u001b[0m \u001b[0mflags\u001b[0m\u001b[1;33m,\u001b[0m \u001b[0mfapl\u001b[0m\u001b[1;33m=\u001b[0m\u001b[0mfapl\u001b[0m\u001b[1;33m)\u001b[0m\u001b[1;33m\u001b[0m\u001b[1;33m\u001b[0m\u001b[0m\n\u001b[0m\u001b[0;32m    143\u001b[0m     \u001b[1;32melif\u001b[0m \u001b[0mmode\u001b[0m \u001b[1;33m==\u001b[0m \u001b[1;34m'r+'\u001b[0m\u001b[1;33m:\u001b[0m\u001b[1;33m\u001b[0m\u001b[1;33m\u001b[0m\u001b[0m\n\u001b[0;32m    144\u001b[0m         \u001b[0mfid\u001b[0m \u001b[1;33m=\u001b[0m \u001b[0mh5f\u001b[0m\u001b[1;33m.\u001b[0m\u001b[0mopen\u001b[0m\u001b[1;33m(\u001b[0m\u001b[0mname\u001b[0m\u001b[1;33m,\u001b[0m \u001b[0mh5f\u001b[0m\u001b[1;33m.\u001b[0m\u001b[0mACC_RDWR\u001b[0m\u001b[1;33m,\u001b[0m \u001b[0mfapl\u001b[0m\u001b[1;33m=\u001b[0m\u001b[0mfapl\u001b[0m\u001b[1;33m)\u001b[0m\u001b[1;33m\u001b[0m\u001b[1;33m\u001b[0m\u001b[0m\n",
      "\u001b[1;32mh5py\\_objects.pyx\u001b[0m in \u001b[0;36mh5py._objects.with_phil.wrapper\u001b[1;34m()\u001b[0m\n",
      "\u001b[1;32mh5py\\_objects.pyx\u001b[0m in \u001b[0;36mh5py._objects.with_phil.wrapper\u001b[1;34m()\u001b[0m\n",
      "\u001b[1;32mh5py\\h5f.pyx\u001b[0m in \u001b[0;36mh5py.h5f.open\u001b[1;34m()\u001b[0m\n",
      "\u001b[1;31mOSError\u001b[0m: Unable to open file (unable to open file: name = 'AlexNetModel.hdf5', errno = 2, error message = 'No such file or directory', flags = 0, o_flags = 0)"
     ]
    }
   ],
   "source": [
    "model = load_model('AlexNetModel.hdf5')"
   ]
  },
  {
   "cell_type": "code",
   "execution_count": null,
   "metadata": {},
   "outputs": [],
   "source": [
    "output_dict = {'Apple___Apple_scab': 0,\n",
    "               'Apple___Black_rot': 1,\n",
    "               'Apple___Cedar_apple_rust': 2,\n",
    "               'Apple___healthy': 3,\n",
    "               'Blueberry___healthy': 4,\n",
    "               'Cherry_(including_sour)___Powdery_mildew': 5,\n",
    "               'Cherry_(including_sour)___healthy': 6,\n",
    "               'Corn_(maize)___Cercospora_leaf_spot Gray_leaf_spot': 7,\n",
    "               'Corn_(maize)___Common_rust_': 8,\n",
    "               'Corn_(maize)___Northern_Leaf_Blight': 9,\n",
    "               'Corn_(maize)___healthy': 10,\n",
    "               'Grape___Black_rot': 11,\n",
    "               'Grape___Esca_(Black_Measles)': 12,\n",
    "               'Grape___Leaf_blight_(Isariopsis_Leaf_Spot)': 13,\n",
    "               'Grape___healthy': 14,\n",
    "               'Orange___Haunglongbing_(Citrus_greening)': 15,\n",
    "               'Peach___Bacterial_spot': 16,\n",
    "               'Peach___healthy': 17,\n",
    "               'Pepper,_bell___Bacterial_spot': 18,\n",
    "               'Pepper,_bell___healthy': 19,\n",
    "               'Potato___Early_blight': 20,\n",
    "               'Potato___Late_blight': 21,\n",
    "               'Potato___healthy': 22,\n",
    "               'Raspberry___healthy': 23,\n",
    "               'Soybean___healthy': 24,\n",
    "               'Squash___Powdery_mildew': 25,\n",
    "               'Strawberry___Leaf_scorch': 26,\n",
    "               'Strawberry___healthy': 27,\n",
    "               'Tomato___Bacterial_spot': 28,\n",
    "               'Tomato___Early_blight': 29,\n",
    "               'Tomato___Late_blight': 30,\n",
    "               'Tomato___Leaf_Mold': 31,\n",
    "               'Tomato___Septoria_leaf_spot': 32,\n",
    "               'Tomato___Spider_mites Two-spotted_spider_mite': 33,\n",
    "               'Tomato___Target_Spot': 34,\n",
    "               'Tomato___Tomato_Yellow_Leaf_Curl_Virus': 35,\n",
    "               'Tomato___Tomato_mosaic_virus': 36,\n",
    "               'Tomato___healthy': 37}"
   ]
  },
  {
   "cell_type": "code",
   "execution_count": null,
   "metadata": {},
   "outputs": [],
   "source": [
    "output_dict_next = {'Apple___Apple_scab': 'apple-scab/',\n",
    "               'Apple___Black_rot': 'black-knot-fungus/',\n",
    "               'Apple___Cedar_apple_rust': 'apple-scab/',\n",
    "               'Apple___healthy': 'its compleatly healthy',\n",
    "               'Blueberry___healthy':\"its compleatly healthy\",\n",
    "               'Cherry_(including_sour)___Powdery_mildew': \"downy-mildew/\",\n",
    "               'Cherry_(including_sour)___healthy': \"its compleatly healthy\",\n",
    "               'Corn_(maize)___Cercospora_leaf_spot Gray_leaf_spot': \"bacterial-leaf-spot/\",\n",
    "               'Corn_(maize)___Common_rust_': \"common-rust/\",\n",
    "               'Corn_(maize)___Northern_Leaf_Blight': \"late-blight/\",\n",
    "               'Corn_(maize)___healthy': \"its compleatly healthy\",\n",
    "               'Grape___Black_rot': \"black-knot-fungus/\",\n",
    "               'Grape___Esca_(Black_Measles)': \"bacterial-leaf-spot/\",\n",
    "               'Grape___Leaf_blight_(Isariopsis_Leaf_Spot)': 'bacterial-leaf-spot/',\n",
    "               'Grape___healthy': \"its compleatly healthy\",\n",
    "               'Orange___Haunglongbing_(Citrus_greening)': \"\",\n",
    "               'Peach___Bacterial_spot': \"bacterial-leaf-spot/\",\n",
    "               'Peach___healthy': \"its compleatly healthy\",\n",
    "               'Pepper,_bell___Bacterial_spot': \"bacterial-leaf-spot/\",\n",
    "               'Pepper,_bell___healthy': \"its compleatly healthy\",\n",
    "               'Potato___Early_blight': \"early-blight/\",\n",
    "               'Potato___Late_blight': \"late-blight/\",\n",
    "               'Potato___healthy': \"its compleatly healthy\",\n",
    "               'Raspberry___healthy': \"its compleatly healthy\",\n",
    "               'Soybean___healthy': \"its compleatly healthy\",\n",
    "               'Squash___Powdery_mildew': \"powdery-mildew/\",\n",
    "               'Strawberry___Leaf_scorch': \"bacterial-leaf-spot/\",\n",
    "               'Strawberry___healthy': \"its compleatly healthy\",\n",
    "               'Tomato___Bacterial_spot': \"bacterial-leaf-spot/\",\n",
    "               'Tomato___Early_blight': \"early-blight/\",\n",
    "               'Tomato___Late_blight': \"late-blight/\",\n",
    "               'Tomato___Leaf_Mold': \"bacterial-leaf-spot/\",\n",
    "               'Tomato___Septoria_leaf_spot': \"bacterial-leaf-spot/\",\n",
    "               'Tomato___Spider_mites Two-spotted_spider_mite': \"\",\n",
    "               'Tomato___Target_Spot': \"bacterial-leaf-spot/\",\n",
    "               'Tomato___Tomato_Yellow_Leaf_Curl_Virus': \"mosaic-virus/\",\n",
    "               'Tomato___Tomato_mosaic_virus': \"mosaic-virus/\",\n",
    "               'Tomato___healthy': \"its compleatly healthy\"}"
   ]
  },
  {
   "cell_type": "code",
   "execution_count": null,
   "metadata": {},
   "outputs": [],
   "source": [
    "output_list = list(output_dict.keys())"
   ]
  },
  {
   "cell_type": "code",
   "execution_count": null,
   "metadata": {},
   "outputs": [],
   "source": [
    "def predict(imgpath):\n",
    "    img = image.load_img(\"test.JPG\",target_size=(224, 224))\n",
    "    img = image.img_to_array(img)\n",
    "    img = np.expand_dims(img, axis=0)\n",
    "    img = img/255 \n",
    "    with graph.as_default():\n",
    "                prediction = model.predict(img)\n",
    "    prediction_flatten = prediction.flatten()\n",
    "    max_val_index = np.argmax(prediction_flatten)\n",
    "    result = output_list[max_val_index]        \n",
    "    return result\n"
   ]
  },
  {
   "cell_type": "code",
   "execution_count": null,
   "metadata": {
    "scrolled": false
   },
   "outputs": [],
   "source": [
    "disease=predict(\"test.JPG\")"
   ]
  },
  {
   "cell_type": "code",
   "execution_count": null,
   "metadata": {},
   "outputs": [],
   "source": [
    "disease"
   ]
  },
  {
   "cell_type": "code",
   "execution_count": null,
   "metadata": {},
   "outputs": [],
   "source": [
    "disease=output_dict_next[disease]"
   ]
  },
  {
   "cell_type": "code",
   "execution_count": null,
   "metadata": {},
   "outputs": [],
   "source": [
    " def cleanhtml(raw_html):\n",
    "  cleanr = re.compile('<.*?>')\n",
    "  cleantext = re.sub(cleanr, '', raw_html)\n",
    "  return cleantext\n",
    " \n",
    "def treatment(disease):\n",
    " \n",
    "    URL = \"https://www.planetnatural.com/pest-problem-solver/plant-disease/\"\n",
    "    r = requests.get(URL+disease)\n",
    "    soup = BeautifulSoup(r.content, 'html.parser')\n",
    "    #print(soup.prettify())\n",
    " \n",
    "    table = soup.find('div', attrs = {'class':'post-entry'})\n",
    "    #print(table.prettify())\n",
    " \n",
    "    list_items = table.find_all('li')\n",
    "    if disease=='mosaic-virus/':\n",
    "        del list_items[0:5]\n",
    "    d=[]\n",
    "    c=[]\n",
    " \n",
    " \n",
    "    for artist_name in list_items:\n",
    "        #print(artist_name.prettify())\n",
    "        name=artist_name.contents\n",
    "        a=[]\n",
    "        b=[]\n",
    "        #print(name)\n",
    "        #for i in name:\n",
    "        #    print(i)\n",
    "        for i in name:\n",
    "           a.append(cleanhtml(str(i)))\n",
    "        for i in a:\n",
    "            b.append(i.replace('\\xa0',''))\n",
    "        #print(b)\n",
    "        c.append(b)\n",
    " \n",
    "    for i in range(len(c)):\n",
    "        d.append(str(i+1)+'. '+''.join(c[i]))\n",
    " \n",
    "    return d\n",
    " \n",
    " \n",
    "\n",
    "\n"
   ]
  },
  {
   "cell_type": "code",
   "execution_count": null,
   "metadata": {},
   "outputs": [],
   "source": [
    "llist=treatment(disease)"
   ]
  },
  {
   "cell_type": "code",
   "execution_count": null,
   "metadata": {},
   "outputs": [],
   "source": [
    "llist"
   ]
  },
  {
   "cell_type": "code",
   "execution_count": null,
   "metadata": {},
   "outputs": [],
   "source": [
    "OUT=\"\"\n",
    "c=[]\n",
    "for i in llist:\n",
    "    c.append(i+'\\n')\n",
    "OUT = ''.join(map(str, c))"
   ]
  },
  {
   "cell_type": "code",
   "execution_count": null,
   "metadata": {},
   "outputs": [],
   "source": [
    "c"
   ]
  },
  {
   "cell_type": "code",
   "execution_count": null,
   "metadata": {},
   "outputs": [],
   "source": []
  }
 ],
 "metadata": {
  "kernelspec": {
   "display_name": "Python 3",
   "language": "python",
   "name": "python3"
  },
  "language_info": {
   "codemirror_mode": {
    "name": "ipython",
    "version": 3
   },
   "file_extension": ".py",
   "mimetype": "text/x-python",
   "name": "python",
   "nbconvert_exporter": "python",
   "pygments_lexer": "ipython3",
   "version": "3.6.7rc1"
  }
 },
 "nbformat": 4,
 "nbformat_minor": 2
}
